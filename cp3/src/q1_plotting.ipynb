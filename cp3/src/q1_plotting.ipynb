{
 "cells": [
  {
   "cell_type": "code",
   "execution_count": 3,
   "metadata": {},
   "outputs": [],
   "source": [
    "import matplotlib.pyplot as plt\n",
    "import psycopg2\n",
    "import pandas as pd\n",
    "import numpy as np"
   ]
  },
  {
   "cell_type": "code",
   "execution_count": 8,
   "metadata": {},
   "outputs": [],
   "source": [
    "conn = psycopg2.connect('dbname=cpdp user=blaine password=postgres')\n",
    "cur = conn.cursor()"
   ]
  },
  {
   "cell_type": "code",
   "execution_count": 10,
   "metadata": {},
   "outputs": [],
   "source": [
    "# Create Subset view\n",
    "cur.execute('''\n",
    "    CREATE TEMP VIEW officer_subset AS\n",
    "    SELECT o.id, o.first_name, o.last_name, o.birth_year, o.appointed_date,\n",
    "          date_part('year', '2018-01-01'::DATE) - o.birth_year as estimated_age,\n",
    "          ('2018-01-01'::DATE - o.appointed_date) / 365 as years_on_force,\n",
    "          COUNT(a.id) as allegation_count\n",
    "    FROM data_officer o\n",
    "    LEFT JOIN data_officerallegation a on o.id = a.officer_id\n",
    "    WHERE active = 'Yes'\n",
    "        AND appointed_date BETWEEN '2000-01-01' AND '2007-12-31'\n",
    "    GROUP BY o.id\n",
    "    ORDER BY years_on_force DESC;\n",
    "''')"
   ]
  },
  {
   "cell_type": "code",
   "execution_count": 11,
   "metadata": {},
   "outputs": [],
   "source": [
    "# create city settlement view\n",
    "cur.execute('''\n",
    "    CREATE TEMP VIEW officer_subsetsettlementpayment AS\n",
    "    SELECT o.id as officer_id, payment.id as payment_id\n",
    "        FROM officer_subset o\n",
    "    INNER JOIN cop_officer_map cop ON cop.officer_id = o.id\n",
    "    INNER JOIN cops_casecop case_cop ON case_cop.cop_id = cop.cop_id\n",
    "    INNER JOIN cases_case case_case ON case_case.id = case_cop.case_id\n",
    "    INNER JOIN cases_payment payment ON payment.case_id = case_case.id;\n",
    "''')"
   ]
  },
  {
   "cell_type": "code",
   "execution_count": 12,
   "metadata": {},
   "outputs": [],
   "source": [
    "# create civil cases view\n",
    "cur.execute('''\n",
    "    CREATE TEMP VIEW officer_subsetcivilcase AS\n",
    "    SELECT o.id as officer_id, civil_case.id as civil_case_id\n",
    "        FROM officer_subset o\n",
    "    INNER JOIN data_officerallegation officerallegation ON officerallegation.officer_id = o.id\n",
    "    INNER JOIN case_map ON case_map.allegation_id = officerallegation.allegation_id\n",
    "    INNER JOIN cases_ipracase civil_case ON civil_case.id = case_map.case_id;\n",
    "''')"
   ]
  },
  {
   "cell_type": "code",
   "execution_count": 13,
   "metadata": {},
   "outputs": [],
   "source": [
    "settlement_df = pd.read_sql_query('''\n",
    "SELECT years_on_force, AVG(allegation_count) as avg_allegation_count, AVG(payment_count) as avg_settlement_count, AVG(payment_total) as average_settlement_amount\n",
    "FROM (\n",
    "    SELECT officer_subset.id,\n",
    "           officer_subset.years_on_force as years_on_force,\n",
    "           officer_subset.allegation_count as allegation_count,\n",
    "           COUNT(payment.id) as payment_count,\n",
    "           COALESCE(SUM(payment.payment),0) as payment_total\n",
    "    FROM officer_subset\n",
    "    LEFT JOIN officer_subsetsettlementpayment as payment_map ON payment_map.officer_id = officer_subset.id\n",
    "    LEFT JOIN cases_payment payment ON payment.id = payment_map.payment_id\n",
    "    GROUP by officer_subset.id, officer_subset.years_on_force, officer_subset.allegation_count\n",
    "    HAVING COUNT(payment.id) > 0\n",
    "    ORDER BY payment_total DESC\n",
    ") as settlement_aggregate\n",
    "GROUP BY years_on_force;\n",
    "''', con=conn)"
   ]
  },
  {
   "cell_type": "code",
   "execution_count": 15,
   "metadata": {},
   "outputs": [],
   "source": [
    "no_settlement_df = pd.read_sql_query('''\n",
    "SELECT years_on_force, AVG(allegation_count) as avg_allegation_count, AVG(payment_count) as avg_settlement_count, AVG(payment_total) as average_settlement_amount\n",
    "FROM (\n",
    "    SELECT officer_subset.id,\n",
    "           officer_subset.years_on_force as years_on_force,\n",
    "           officer_subset.allegation_count as allegation_count,\n",
    "           COUNT(payment.id) as payment_count,\n",
    "           COALESCE(SUM(payment.payment),0) as payment_total\n",
    "    FROM officer_subset\n",
    "    LEFT JOIN officer_subsetsettlementpayment as payment_map ON payment_map.officer_id = officer_subset.id\n",
    "    LEFT JOIN cases_payment payment ON payment.id = payment_map.payment_id\n",
    "    GROUP by officer_subset.id, officer_subset.years_on_force, officer_subset.allegation_count\n",
    "    HAVING COUNT(payment.id) = 0\n",
    "    ORDER BY payment_total DESC\n",
    ") as settlement_aggregate\n",
    "GROUP BY years_on_force;\n",
    "''', con=conn)"
   ]
  },
  {
   "cell_type": "code",
   "execution_count": 32,
   "metadata": {},
   "outputs": [],
   "source": [
    "civil_case_df = pd.read_sql_query('''\n",
    "SELECT years_on_force, AVG(allegation_count) as avg_allegation_count, AVG(case_count) as avg_civil_case_count\n",
    "FROM (\n",
    "    SELECT officer_subset.id,\n",
    "           officer_subset.years_on_force as years_on_force,\n",
    "           officer_subset.allegation_count as allegation_count,\n",
    "           COUNT(civil_case.civil_case_id) as case_count\n",
    "    FROM officer_subset\n",
    "    LEFT JOIN officer_subsetcivilcase civil_case ON civil_case.officer_id = officer_subset.id\n",
    "    GROUP by officer_subset.id, officer_subset.years_on_force, officer_subset.allegation_count\n",
    "    HAVING COUNT(civil_case.civil_case_id) > 0\n",
    ") as settlement_aggregate\n",
    "GROUP BY years_on_force;\n",
    "''', con=conn)"
   ]
  },
  {
   "cell_type": "code",
   "execution_count": 33,
   "metadata": {},
   "outputs": [],
   "source": [
    "no_civil_case_df = pd.read_sql_query('''\n",
    "SELECT years_on_force, AVG(allegation_count) as avg_allegation_count, AVG(case_count) as avg_civil_case_count\n",
    "FROM (\n",
    "    SELECT officer_subset.id,\n",
    "           officer_subset.years_on_force as years_on_force,\n",
    "           officer_subset.allegation_count as allegation_count,\n",
    "           COUNT(civil_case.civil_case_id) as case_count\n",
    "    FROM officer_subset\n",
    "    LEFT JOIN officer_subsetcivilcase civil_case ON civil_case.officer_id = officer_subset.id\n",
    "    GROUP by officer_subset.id, officer_subset.years_on_force, officer_subset.allegation_count\n",
    "    HAVING COUNT(civil_case.civil_case_id) = 0\n",
    ") as settlement_aggregate\n",
    "GROUP BY years_on_force;\n",
    "''', con=conn)"
   ]
  },
  {
   "cell_type": "code",
   "execution_count": 36,
   "metadata": {},
   "outputs": [
    {
     "data": {
      "image/png": "[encoded data removed]",
      "text/plain": [
       "<Figure size 432x288 with 1 Axes>"
      ]
     },
     "metadata": {
      "needs_background": "light"
     },
     "output_type": "display_data"
    }
   ],
   "source": [
    "yrs = no_settlement_df['years_on_force']\n",
    "\n",
    "no_ac = no_settlement_df['avg_allegation_count']\n",
    "ac = settlement_df['avg_allegation_count']\n",
    "\n",
    "no_cc = no_civil_case_df['avg_allegation_count']\n",
    "cc = civil_case_df['avg_allegation_count']\n",
    "\n",
    "plt.plot(yrs, ac, label=\"with settlement\")\n",
    "plt.plot(yrs, no_ac, label=\"without settlement\")\n",
    "plt.plot(yrs, no_cc, label=\"without civil case\")\n",
    "plt.plot(yrs, cc, label=\"with civil case\")\n",
    "\n",
    "plt.title('Average Allegations')\n",
    "plt.xlabel('years on the force')\n",
    "plt.ylabel('avg allegations')\n",
    "plt.legend()\n",
    "\n",
    "plt.savefig('images/q1_average_allegations')"
   ]
  },
  {
   "cell_type": "code",
   "execution_count": null,
   "metadata": {},
   "outputs": [],
   "source": []
  }
 ],
 "metadata": {
  "kernelspec": {
   "display_name": "cpdp",
   "language": "python",
   "name": "cpdp"
  },
  "language_info": {
   "codemirror_mode": {
    "name": "ipython",
    "version": 3
   },
   "file_extension": ".py",
   "mimetype": "text/x-python",
   "name": "python",
   "nbconvert_exporter": "python",
   "pygments_lexer": "ipython3",
   "version": "3.7.4"
  }
 },
 "nbformat": 4,
 "nbformat_minor": 2
}
