{
 "cells": [
  {
   "cell_type": "code",
   "execution_count": 18,
   "metadata": {},
   "outputs": [],
   "source": [
    "import pandas as pd\n",
    "import numpy as np\n",
    "\n",
    "from clean_name_utils import clean_human_names"
   ]
  },
  {
   "cell_type": "code",
   "execution_count": 19,
   "metadata": {},
   "outputs": [],
   "source": [
    "df = pd.read_csv(\"data/data_officerarrest.csv\", header=None, low_memory=False)"
   ]
  },
  {
   "cell_type": "code",
   "execution_count": 20,
   "metadata": {},
   "outputs": [
    {
     "data": {
      "text/plain": [
       "6234788"
      ]
     },
     "execution_count": 20,
     "metadata": {},
     "output_type": "execute_result"
    }
   ],
   "source": [
    "len(df)"
   ]
  },
  {
   "cell_type": "code",
   "execution_count": 21,
   "metadata": {},
   "outputs": [],
   "source": [
    "names = df[[0,1,3]][1:].to_numpy(dtype=str)"
   ]
  },
  {
   "cell_type": "code",
   "execution_count": 22,
   "metadata": {},
   "outputs": [
    {
     "data": {
      "text/plain": [
       "array([['720841', '2003', 'PAUL R. KIRNER'],\n",
       "       ['720841', '2003', 'RON T. REMPAS'],\n",
       "       ['720841', '2003', 'PAUL R. KIRNER'],\n",
       "       ...,\n",
       "       ['19681237', '2018', 'PEDRO HERNANDEZ'],\n",
       "       ['19681237', '2018', 'RYAN J. LEON'],\n",
       "       ['19681237', '2018', 'RYAN J. LEON']], dtype='<U31')"
      ]
     },
     "execution_count": 22,
     "metadata": {},
     "output_type": "execute_result"
    }
   ],
   "source": [
    "names"
   ]
  },
  {
   "cell_type": "code",
   "execution_count": 23,
   "metadata": {},
   "outputs": [],
   "source": [
    "sep_names = clean_human_names(names[:,2])"
   ]
  },
  {
   "cell_type": "code",
   "execution_count": 13,
   "metadata": {},
   "outputs": [
    {
     "data": {
      "text/html": [
       "<div>\n",
       "<style scoped>\n",
       "    .dataframe tbody tr th:only-of-type {\n",
       "        vertical-align: middle;\n",
       "    }\n",
       "\n",
       "    .dataframe tbody tr th {\n",
       "        vertical-align: top;\n",
       "    }\n",
       "\n",
       "    .dataframe thead th {\n",
       "        text-align: right;\n",
       "    }\n",
       "</style>\n",
       "<table border=\"1\" class=\"dataframe\">\n",
       "  <thead>\n",
       "    <tr style=\"text-align: right;\">\n",
       "      <th></th>\n",
       "      <th>first_name</th>\n",
       "      <th>last_name</th>\n",
       "      <th>middle_initial</th>\n",
       "      <th>middle_initial2</th>\n",
       "      <th>suffix_name</th>\n",
       "      <th>middle_name</th>\n",
       "      <th>first_name_NS</th>\n",
       "      <th>last_name_NS</th>\n",
       "    </tr>\n",
       "  </thead>\n",
       "  <tbody>\n",
       "    <tr>\n",
       "      <th>0</th>\n",
       "      <td>BRENDA</td>\n",
       "      <td>NEAL</td>\n",
       "      <td>P</td>\n",
       "      <td>O</td>\n",
       "      <td></td>\n",
       "      <td></td>\n",
       "      <td>BRENDA</td>\n",
       "      <td>NEAL</td>\n",
       "    </tr>\n",
       "    <tr>\n",
       "      <th>1</th>\n",
       "      <td>DANIEL</td>\n",
       "      <td>SANCHEZ</td>\n",
       "      <td></td>\n",
       "      <td></td>\n",
       "      <td>JR</td>\n",
       "      <td></td>\n",
       "      <td>DANIEL</td>\n",
       "      <td>SANCHEZ</td>\n",
       "    </tr>\n",
       "    <tr>\n",
       "      <th>2</th>\n",
       "      <td>RONALD</td>\n",
       "      <td>BRANNAN</td>\n",
       "      <td>W</td>\n",
       "      <td></td>\n",
       "      <td></td>\n",
       "      <td></td>\n",
       "      <td>RONALD</td>\n",
       "      <td>BRANNAN</td>\n",
       "    </tr>\n",
       "    <tr>\n",
       "      <th>3</th>\n",
       "      <td>TERRANCE</td>\n",
       "      <td>LINDAHL</td>\n",
       "      <td>A</td>\n",
       "      <td></td>\n",
       "      <td></td>\n",
       "      <td></td>\n",
       "      <td>TERRANCE</td>\n",
       "      <td>LINDAHL</td>\n",
       "    </tr>\n",
       "    <tr>\n",
       "      <th>4</th>\n",
       "      <td>EDWARD</td>\n",
       "      <td>SOJKA</td>\n",
       "      <td>M</td>\n",
       "      <td></td>\n",
       "      <td></td>\n",
       "      <td></td>\n",
       "      <td>EDWARD</td>\n",
       "      <td>SOJKA</td>\n",
       "    </tr>\n",
       "    <tr>\n",
       "      <th>...</th>\n",
       "      <td>...</td>\n",
       "      <td>...</td>\n",
       "      <td>...</td>\n",
       "      <td>...</td>\n",
       "      <td>...</td>\n",
       "      <td>...</td>\n",
       "      <td>...</td>\n",
       "      <td>...</td>\n",
       "    </tr>\n",
       "    <tr>\n",
       "      <th>625</th>\n",
       "      <td>STEPHEN</td>\n",
       "      <td>MC GREEVY</td>\n",
       "      <td>D</td>\n",
       "      <td></td>\n",
       "      <td></td>\n",
       "      <td></td>\n",
       "      <td>STEPHEN</td>\n",
       "      <td>MCGREEVY</td>\n",
       "    </tr>\n",
       "    <tr>\n",
       "      <th>626</th>\n",
       "      <td>GLORIA</td>\n",
       "      <td>HANNA</td>\n",
       "      <td>J</td>\n",
       "      <td></td>\n",
       "      <td></td>\n",
       "      <td></td>\n",
       "      <td>GLORIA</td>\n",
       "      <td>HANNA</td>\n",
       "    </tr>\n",
       "    <tr>\n",
       "      <th>627</th>\n",
       "      <td>STEVE</td>\n",
       "      <td>BARRIENTOS</td>\n",
       "      <td></td>\n",
       "      <td></td>\n",
       "      <td>JR</td>\n",
       "      <td></td>\n",
       "      <td>STEVE</td>\n",
       "      <td>BARRIENTOS</td>\n",
       "    </tr>\n",
       "    <tr>\n",
       "      <th>628</th>\n",
       "      <td>KENNETH</td>\n",
       "      <td>CLOVENT</td>\n",
       "      <td>C</td>\n",
       "      <td></td>\n",
       "      <td></td>\n",
       "      <td></td>\n",
       "      <td>KENNETH</td>\n",
       "      <td>CLOVENT</td>\n",
       "    </tr>\n",
       "    <tr>\n",
       "      <th>629</th>\n",
       "      <td>WALTER</td>\n",
       "      <td>BENDIK</td>\n",
       "      <td>J</td>\n",
       "      <td></td>\n",
       "      <td></td>\n",
       "      <td></td>\n",
       "      <td>WALTER</td>\n",
       "      <td>BENDIK</td>\n",
       "    </tr>\n",
       "  </tbody>\n",
       "</table>\n",
       "<p>630 rows × 8 columns</p>\n",
       "</div>"
      ],
      "text/plain": [
       "    first_name   last_name middle_initial middle_initial2 suffix_name  \\\n",
       "0       BRENDA        NEAL              P               O               \n",
       "1       DANIEL     SANCHEZ                                         JR   \n",
       "2       RONALD     BRANNAN              W                               \n",
       "3     TERRANCE     LINDAHL              A                               \n",
       "4       EDWARD       SOJKA              M                               \n",
       "..         ...         ...            ...             ...         ...   \n",
       "625    STEPHEN   MC GREEVY              D                               \n",
       "626     GLORIA       HANNA              J                               \n",
       "627      STEVE  BARRIENTOS                                         JR   \n",
       "628    KENNETH     CLOVENT              C                               \n",
       "629     WALTER      BENDIK              J                               \n",
       "\n",
       "    middle_name first_name_NS last_name_NS  \n",
       "0                      BRENDA         NEAL  \n",
       "1                      DANIEL      SANCHEZ  \n",
       "2                      RONALD      BRANNAN  \n",
       "3                    TERRANCE      LINDAHL  \n",
       "4                      EDWARD        SOJKA  \n",
       "..          ...           ...          ...  \n",
       "625                   STEPHEN     MCGREEVY  \n",
       "626                    GLORIA        HANNA  \n",
       "627                     STEVE   BARRIENTOS  \n",
       "628                   KENNETH      CLOVENT  \n",
       "629                    WALTER       BENDIK  \n",
       "\n",
       "[630 rows x 8 columns]"
      ]
     },
     "execution_count": 13,
     "metadata": {},
     "output_type": "execute_result"
    }
   ],
   "source": [
    "sep_names"
   ]
  },
  {
   "cell_type": "code",
   "execution_count": 14,
   "metadata": {},
   "outputs": [],
   "source": [
    "np_sep_names = sep_names.to_numpy()"
   ]
  },
  {
   "cell_type": "code",
   "execution_count": 15,
   "metadata": {},
   "outputs": [],
   "source": [
    "output = []"
   ]
  },
  {
   "cell_type": "code",
   "execution_count": 16,
   "metadata": {},
   "outputs": [],
   "source": [
    "for i, name in enumerate(names):\n",
    "    cp_number = name[0]\n",
    "    arrest_year = name[1]\n",
    "    full_name = name[2]\n",
    "    \n",
    "    sep_name = np_sep_names[i]\n",
    "    first_name = sep_name[0]\n",
    "    last_name = sep_name[1]\n",
    "    middle_initial= sep_name[2]\n",
    "    suffix_name = sep_name[4]\n",
    "    \n",
    "    output.append([\n",
    "        cp_number,\n",
    "        arrest_year,\n",
    "        full_name,\n",
    "        first_name,\n",
    "        last_name,\n",
    "        middle_initial,\n",
    "        suffix_name\n",
    "    ])"
   ]
  },
  {
   "cell_type": "code",
   "execution_count": 17,
   "metadata": {},
   "outputs": [],
   "source": [
    "header = 'cp_number,arrest_year,full_name,first_name,last_name,middle_initial,suffix_name'\n",
    "np.savetxt(\"data/officer_names_dedupe.csv\", np.array(output), delimiter=\",\", fmt='%s', header=header)\n"
   ]
  },
  {
   "cell_type": "code",
   "execution_count": null,
   "metadata": {},
   "outputs": [],
   "source": []
  }
 ],
 "metadata": {
  "kernelspec": {
   "display_name": "Python 3",
   "language": "python",
   "name": "python3"
  },
  "language_info": {
   "codemirror_mode": {
    "name": "ipython",
    "version": 3
   },
   "file_extension": ".py",
   "mimetype": "text/x-python",
   "name": "python",
   "nbconvert_exporter": "python",
   "pygments_lexer": "ipython3",
   "version": "3.7.5"
  }
 },
 "nbformat": 4,
 "nbformat_minor": 2
}
