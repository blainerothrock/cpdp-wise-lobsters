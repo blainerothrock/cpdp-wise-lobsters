{
 "cells": [
  {
   "cell_type": "code",
   "execution_count": 36,
   "metadata": {},
   "outputs": [],
   "source": [
    "import pandas as pd\n",
    "import numpy as np\n",
    "\n",
    "from clean_name_utils import clean_human_names"
   ]
  },
  {
   "cell_type": "code",
   "execution_count": 27,
   "metadata": {},
   "outputs": [],
   "source": [
    "df = pd.read_csv(\"data/data_officerarrest.csv\", header=None, low_memory=False)"
   ]
  },
  {
   "cell_type": "code",
   "execution_count": 43,
   "metadata": {},
   "outputs": [],
   "source": [
    "names = df[[0,1,3]][1:].to_numpy(dtype=str)"
   ]
  },
  {
   "cell_type": "code",
   "execution_count": 44,
   "metadata": {},
   "outputs": [
    {
     "data": {
      "text/plain": [
       "array([['720841', '2003', 'PAUL R. KIRNER'],\n",
       "       ['720841', '2003', 'RON T. REMPAS'],\n",
       "       ['720841', '2003', 'PAUL R. KIRNER'],\n",
       "       ...,\n",
       "       ['19681237', '2018', 'PEDRO HERNANDEZ'],\n",
       "       ['19681237', '2018', 'RYAN J. LEON'],\n",
       "       ['19681237', '2018', 'RYAN J. LEON']], dtype='<U31')"
      ]
     },
     "execution_count": 44,
     "metadata": {},
     "output_type": "execute_result"
    }
   ],
   "source": [
    "names"
   ]
  },
  {
   "cell_type": "code",
   "execution_count": 45,
   "metadata": {},
   "outputs": [],
   "source": [
    "sep_names = clean_human_names(names[:,2])"
   ]
  },
  {
   "cell_type": "code",
   "execution_count": 55,
   "metadata": {},
   "outputs": [
    {
     "data": {
      "text/html": [
       "<div>\n",
       "<style scoped>\n",
       "    .dataframe tbody tr th:only-of-type {\n",
       "        vertical-align: middle;\n",
       "    }\n",
       "\n",
       "    .dataframe tbody tr th {\n",
       "        vertical-align: top;\n",
       "    }\n",
       "\n",
       "    .dataframe thead th {\n",
       "        text-align: right;\n",
       "    }\n",
       "</style>\n",
       "<table border=\"1\" class=\"dataframe\">\n",
       "  <thead>\n",
       "    <tr style=\"text-align: right;\">\n",
       "      <th></th>\n",
       "      <th>first_name</th>\n",
       "      <th>last_name</th>\n",
       "      <th>middle_initial</th>\n",
       "      <th>middle_initial2</th>\n",
       "      <th>suffix_name</th>\n",
       "      <th>middle_name</th>\n",
       "      <th>first_name_NS</th>\n",
       "      <th>last_name_NS</th>\n",
       "    </tr>\n",
       "  </thead>\n",
       "  <tbody>\n",
       "    <tr>\n",
       "      <th>0</th>\n",
       "      <td>PAUL</td>\n",
       "      <td>KIRNER</td>\n",
       "      <td>R</td>\n",
       "      <td></td>\n",
       "      <td></td>\n",
       "      <td></td>\n",
       "      <td>PAUL</td>\n",
       "      <td>KIRNER</td>\n",
       "    </tr>\n",
       "    <tr>\n",
       "      <th>1</th>\n",
       "      <td>RON</td>\n",
       "      <td>REMPAS</td>\n",
       "      <td>T</td>\n",
       "      <td></td>\n",
       "      <td></td>\n",
       "      <td></td>\n",
       "      <td>RON</td>\n",
       "      <td>REMPAS</td>\n",
       "    </tr>\n",
       "    <tr>\n",
       "      <th>2</th>\n",
       "      <td>PAUL</td>\n",
       "      <td>KIRNER</td>\n",
       "      <td>R</td>\n",
       "      <td></td>\n",
       "      <td></td>\n",
       "      <td></td>\n",
       "      <td>PAUL</td>\n",
       "      <td>KIRNER</td>\n",
       "    </tr>\n",
       "    <tr>\n",
       "      <th>3</th>\n",
       "      <td>RON</td>\n",
       "      <td>REMPAS</td>\n",
       "      <td>T</td>\n",
       "      <td></td>\n",
       "      <td></td>\n",
       "      <td></td>\n",
       "      <td>RON</td>\n",
       "      <td>REMPAS</td>\n",
       "    </tr>\n",
       "    <tr>\n",
       "      <th>4</th>\n",
       "      <td>HERBERT</td>\n",
       "      <td>WALKER</td>\n",
       "      <td>C</td>\n",
       "      <td></td>\n",
       "      <td></td>\n",
       "      <td></td>\n",
       "      <td>HERBERT</td>\n",
       "      <td>WALKER</td>\n",
       "    </tr>\n",
       "    <tr>\n",
       "      <th>...</th>\n",
       "      <td>...</td>\n",
       "      <td>...</td>\n",
       "      <td>...</td>\n",
       "      <td>...</td>\n",
       "      <td>...</td>\n",
       "      <td>...</td>\n",
       "      <td>...</td>\n",
       "      <td>...</td>\n",
       "    </tr>\n",
       "    <tr>\n",
       "      <th>6234782</th>\n",
       "      <td>JONATHAN</td>\n",
       "      <td>GUZMAN</td>\n",
       "      <td>B</td>\n",
       "      <td></td>\n",
       "      <td></td>\n",
       "      <td></td>\n",
       "      <td>JONATHAN</td>\n",
       "      <td>GUZMAN</td>\n",
       "    </tr>\n",
       "    <tr>\n",
       "      <th>6234783</th>\n",
       "      <td>PEDRO</td>\n",
       "      <td>HERNANDEZ</td>\n",
       "      <td></td>\n",
       "      <td></td>\n",
       "      <td></td>\n",
       "      <td></td>\n",
       "      <td>PEDRO</td>\n",
       "      <td>HERNANDEZ</td>\n",
       "    </tr>\n",
       "    <tr>\n",
       "      <th>6234784</th>\n",
       "      <td>PEDRO</td>\n",
       "      <td>HERNANDEZ</td>\n",
       "      <td></td>\n",
       "      <td></td>\n",
       "      <td></td>\n",
       "      <td></td>\n",
       "      <td>PEDRO</td>\n",
       "      <td>HERNANDEZ</td>\n",
       "    </tr>\n",
       "    <tr>\n",
       "      <th>6234785</th>\n",
       "      <td>RYAN</td>\n",
       "      <td>LEON</td>\n",
       "      <td>J</td>\n",
       "      <td></td>\n",
       "      <td></td>\n",
       "      <td></td>\n",
       "      <td>RYAN</td>\n",
       "      <td>LEON</td>\n",
       "    </tr>\n",
       "    <tr>\n",
       "      <th>6234786</th>\n",
       "      <td>RYAN</td>\n",
       "      <td>LEON</td>\n",
       "      <td>J</td>\n",
       "      <td></td>\n",
       "      <td></td>\n",
       "      <td></td>\n",
       "      <td>RYAN</td>\n",
       "      <td>LEON</td>\n",
       "    </tr>\n",
       "  </tbody>\n",
       "</table>\n",
       "<p>6234787 rows × 8 columns</p>\n",
       "</div>"
      ],
      "text/plain": [
       "        first_name  last_name middle_initial middle_initial2 suffix_name  \\\n",
       "0             PAUL     KIRNER              R                               \n",
       "1              RON     REMPAS              T                               \n",
       "2             PAUL     KIRNER              R                               \n",
       "3              RON     REMPAS              T                               \n",
       "4          HERBERT     WALKER              C                               \n",
       "...            ...        ...            ...             ...         ...   \n",
       "6234782   JONATHAN     GUZMAN              B                               \n",
       "6234783      PEDRO  HERNANDEZ                                              \n",
       "6234784      PEDRO  HERNANDEZ                                              \n",
       "6234785       RYAN       LEON              J                               \n",
       "6234786       RYAN       LEON              J                               \n",
       "\n",
       "        middle_name first_name_NS last_name_NS  \n",
       "0                            PAUL       KIRNER  \n",
       "1                             RON       REMPAS  \n",
       "2                            PAUL       KIRNER  \n",
       "3                             RON       REMPAS  \n",
       "4                         HERBERT       WALKER  \n",
       "...             ...           ...          ...  \n",
       "6234782                  JONATHAN       GUZMAN  \n",
       "6234783                     PEDRO    HERNANDEZ  \n",
       "6234784                     PEDRO    HERNANDEZ  \n",
       "6234785                      RYAN         LEON  \n",
       "6234786                      RYAN         LEON  \n",
       "\n",
       "[6234787 rows x 8 columns]"
      ]
     },
     "execution_count": 55,
     "metadata": {},
     "output_type": "execute_result"
    }
   ],
   "source": [
    "sep_names"
   ]
  },
  {
   "cell_type": "code",
   "execution_count": 53,
   "metadata": {},
   "outputs": [],
   "source": [
    "np_sep_names = sep_names.to_numpy()"
   ]
  },
  {
   "cell_type": "code",
   "execution_count": 59,
   "metadata": {},
   "outputs": [],
   "source": [
    "output = []"
   ]
  },
  {
   "cell_type": "code",
   "execution_count": 60,
   "metadata": {},
   "outputs": [],
   "source": [
    "for i, name in enumerate(names):\n",
    "    cp_number = name[0]\n",
    "    arrest_year = name[1]\n",
    "    full_name = name[2]\n",
    "    \n",
    "    sep_name = np_sep_names[i]\n",
    "    first_name = sep_name[0]\n",
    "    last_name = sep_name[1]\n",
    "    middle_initial= sep_name[2]\n",
    "    suffix_name = sep_name[4]\n",
    "    \n",
    "    output.append([\n",
    "        cp_number,\n",
    "        arrest_year,\n",
    "        full_name,\n",
    "        first_name,\n",
    "        last_name,\n",
    "        middle_initial,\n",
    "        suffix_name\n",
    "    ])"
   ]
  },
  {
   "cell_type": "code",
   "execution_count": 64,
   "metadata": {},
   "outputs": [],
   "source": [
    "header = 'cp_number,arrest_year,full_name,first_name,last_name,middle_initial,suffix_name'\n",
    "np.savetxt(\"data/officer_names.csv\", np.array(output), delimiter=\",\", fmt='%s', header=header)\n"
   ]
  },
  {
   "cell_type": "code",
   "execution_count": null,
   "metadata": {},
   "outputs": [],
   "source": []
  }
 ],
 "metadata": {
  "kernelspec": {
   "display_name": "Python 3",
   "language": "python",
   "name": "python3"
  },
  "language_info": {
   "codemirror_mode": {
    "name": "ipython",
    "version": 3
   },
   "file_extension": ".py",
   "mimetype": "text/x-python",
   "name": "python",
   "nbconvert_exporter": "python",
   "pygments_lexer": "ipython3",
   "version": "3.7.5"
  }
 },
 "nbformat": 4,
 "nbformat_minor": 2
}
